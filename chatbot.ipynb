{
 "cells": [
  {
   "cell_type": "code",
   "execution_count": 1,
   "metadata": {},
   "outputs": [
    {
     "name": "stdout",
     "output_type": "stream",
     "text": [
      "Requirement already satisfied: openai in c:\\users\\maximo guzman\\appdata\\local\\programs\\python\\python312\\lib\\site-packages (1.69.0)\n",
      "Requirement already satisfied: pandas in c:\\users\\maximo guzman\\appdata\\local\\programs\\python\\python312\\lib\\site-packages (2.2.3)\n",
      "Requirement already satisfied: numpy in c:\\users\\maximo guzman\\appdata\\local\\programs\\python\\python312\\lib\\site-packages (1.26.4)\n",
      "Requirement already satisfied: anyio<5,>=3.5.0 in c:\\users\\maximo guzman\\appdata\\local\\programs\\python\\python312\\lib\\site-packages (from openai) (4.8.0)\n",
      "Requirement already satisfied: distro<2,>=1.7.0 in c:\\users\\maximo guzman\\appdata\\local\\programs\\python\\python312\\lib\\site-packages (from openai) (1.9.0)\n",
      "Requirement already satisfied: httpx<1,>=0.23.0 in c:\\users\\maximo guzman\\appdata\\local\\programs\\python\\python312\\lib\\site-packages (from openai) (0.28.1)\n",
      "Requirement already satisfied: jiter<1,>=0.4.0 in c:\\users\\maximo guzman\\appdata\\local\\programs\\python\\python312\\lib\\site-packages (from openai) (0.9.0)\n",
      "Requirement already satisfied: pydantic<3,>=1.9.0 in c:\\users\\maximo guzman\\appdata\\local\\programs\\python\\python312\\lib\\site-packages (from openai) (2.11.1)\n",
      "Requirement already satisfied: sniffio in c:\\users\\maximo guzman\\appdata\\local\\programs\\python\\python312\\lib\\site-packages (from openai) (1.3.1)\n",
      "Requirement already satisfied: tqdm>4 in c:\\users\\maximo guzman\\appdata\\local\\programs\\python\\python312\\lib\\site-packages (from openai) (4.67.1)\n",
      "Requirement already satisfied: typing-extensions<5,>=4.11 in c:\\users\\maximo guzman\\appdata\\local\\programs\\python\\python312\\lib\\site-packages (from openai) (4.12.2)\n",
      "Requirement already satisfied: python-dateutil>=2.8.2 in c:\\users\\maximo guzman\\appdata\\local\\programs\\python\\python312\\lib\\site-packages (from pandas) (2.9.0.post0)\n",
      "Requirement already satisfied: pytz>=2020.1 in c:\\users\\maximo guzman\\appdata\\local\\programs\\python\\python312\\lib\\site-packages (from pandas) (2025.1)\n",
      "Requirement already satisfied: tzdata>=2022.7 in c:\\users\\maximo guzman\\appdata\\local\\programs\\python\\python312\\lib\\site-packages (from pandas) (2025.1)\n",
      "Requirement already satisfied: idna>=2.8 in c:\\users\\maximo guzman\\appdata\\local\\programs\\python\\python312\\lib\\site-packages (from anyio<5,>=3.5.0->openai) (3.10)\n",
      "Requirement already satisfied: certifi in c:\\users\\maximo guzman\\appdata\\local\\programs\\python\\python312\\lib\\site-packages (from httpx<1,>=0.23.0->openai) (2025.1.31)\n",
      "Requirement already satisfied: httpcore==1.* in c:\\users\\maximo guzman\\appdata\\local\\programs\\python\\python312\\lib\\site-packages (from httpx<1,>=0.23.0->openai) (1.0.7)\n",
      "Requirement already satisfied: h11<0.15,>=0.13 in c:\\users\\maximo guzman\\appdata\\local\\programs\\python\\python312\\lib\\site-packages (from httpcore==1.*->httpx<1,>=0.23.0->openai) (0.14.0)\n",
      "Requirement already satisfied: annotated-types>=0.6.0 in c:\\users\\maximo guzman\\appdata\\local\\programs\\python\\python312\\lib\\site-packages (from pydantic<3,>=1.9.0->openai) (0.7.0)\n",
      "Requirement already satisfied: pydantic-core==2.33.0 in c:\\users\\maximo guzman\\appdata\\local\\programs\\python\\python312\\lib\\site-packages (from pydantic<3,>=1.9.0->openai) (2.33.0)\n",
      "Requirement already satisfied: typing-inspection>=0.4.0 in c:\\users\\maximo guzman\\appdata\\local\\programs\\python\\python312\\lib\\site-packages (from pydantic<3,>=1.9.0->openai) (0.4.0)\n",
      "Requirement already satisfied: six>=1.5 in c:\\users\\maximo guzman\\appdata\\local\\programs\\python\\python312\\lib\\site-packages (from python-dateutil>=2.8.2->pandas) (1.17.0)\n",
      "Requirement already satisfied: colorama in c:\\users\\maximo guzman\\appdata\\local\\programs\\python\\python312\\lib\\site-packages (from tqdm>4->openai) (0.4.6)\n"
     ]
    }
   ],
   "source": [
    "!pip install openai pandas numpy"
   ]
  },
  {
   "cell_type": "code",
   "execution_count": 2,
   "metadata": {},
   "outputs": [
    {
     "name": "stdout",
     "output_type": "stream",
     "text": [
      "Requirement already satisfied: chardet in c:\\users\\maximo guzman\\appdata\\local\\programs\\python\\python312\\lib\\site-packages (5.2.0)\n"
     ]
    }
   ],
   "source": [
    "!pip install chardet"
   ]
  },
  {
   "cell_type": "code",
   "execution_count": 3,
   "metadata": {},
   "outputs": [
    {
     "name": "stdout",
     "output_type": "stream",
     "text": [
      "Codificación detectada: ISO-8859-1\n"
     ]
    }
   ],
   "source": [
    "import chardet\n",
    "\n",
    "# Leer una porción del archivo para detectar la codificación\n",
    "with open('dataset_finanzas.csv', 'rb') as archivo:\n",
    "    resultado = chardet.detect(archivo.read(100000))  # Lee los primeros 100,000 bytes\n",
    "    codificacion = resultado['encoding']\n",
    "    print(f'Codificación detectada: {codificacion}')"
   ]
  },
  {
   "cell_type": "code",
   "execution_count": 4,
   "metadata": {},
   "outputs": [],
   "source": [
    "import pandas as pd\n",
    "\n",
    "# Utilizar la codificación detectada\n",
    "df = pd.read_csv('dataset_finanzas.csv', encoding=codificacion)"
   ]
  },
  {
   "cell_type": "code",
   "execution_count": 5,
   "metadata": {},
   "outputs": [
    {
     "name": "stdout",
     "output_type": "stream",
     "text": [
      "                                               texto          intención  \\\n",
      "0      Gasté 50 soles en restaurantes el 5 de marzo.    Registrar Gasto   \n",
      "1  Hice un gasto de 50 soles en restaurantes el 5...    Registrar Gasto   \n",
      "2       El 5 de marzo gasté 50 soles comiendo fuera.    Registrar Gasto   \n",
      "3  Anoté 50 soles de gasto en restaurantes el 5 d...    Registrar Gasto   \n",
      "4  Recibí un ingreso de 1,200 soles por salario e...  Registrar Ingreso   \n",
      "\n",
      "    monto     categoría       fecha periodo tarjeta  \\\n",
      "0    50.0  restaurantes  05/03/2025     NaN     NaN   \n",
      "1    50.0  restaurantes  05/03/2025     NaN     NaN   \n",
      "2    50.0  restaurantes  05/03/2025     NaN     NaN   \n",
      "3    50.0  restaurantes  05/03/2025     NaN     NaN   \n",
      "4  1200.0       salario  01/03/2025     NaN     NaN   \n",
      "\n",
      "                                  respuesta_esperada  \n",
      "0  He registrado tu gasto de 50 soles en restaura...  \n",
      "1  He registrado tu gasto de 50 soles en restaura...  \n",
      "2  He registrado tu gasto de 50 soles en restaura...  \n",
      "3  He registrado tu gasto de 50 soles en restaura...  \n",
      "4  Tu ingreso de 1200 soles por salario ha sido r...  \n"
     ]
    }
   ],
   "source": [
    "print(df.head())"
   ]
  },
  {
   "cell_type": "code",
   "execution_count": 6,
   "metadata": {},
   "outputs": [
    {
     "name": "stdout",
     "output_type": "stream",
     "text": [
      "<class 'pandas.core.frame.DataFrame'>\n",
      "RangeIndex: 3694 entries, 0 to 3693\n",
      "Data columns (total 8 columns):\n",
      " #   Column              Non-Null Count  Dtype  \n",
      "---  ------              --------------  -----  \n",
      " 0   texto               3694 non-null   object \n",
      " 1   intención           3694 non-null   object \n",
      " 2   monto               826 non-null    float64\n",
      " 3   categoría           1203 non-null   object \n",
      " 4   fecha               595 non-null    object \n",
      " 5   periodo             963 non-null    object \n",
      " 6   tarjeta             756 non-null    object \n",
      " 7   respuesta_esperada  3694 non-null   object \n",
      "dtypes: float64(1), object(7)\n",
      "memory usage: 231.0+ KB\n",
      "None\n"
     ]
    }
   ],
   "source": [
    "print(df.info())"
   ]
  },
  {
   "cell_type": "code",
   "execution_count": 7,
   "metadata": {},
   "outputs": [
    {
     "name": "stdout",
     "output_type": "stream",
     "text": [
      "             monto\n",
      "count   826.000000\n",
      "mean    445.375303\n",
      "std     539.731706\n",
      "min       0.000000\n",
      "25%      85.000000\n",
      "50%     200.000000\n",
      "75%     600.000000\n",
      "max    3000.000000\n"
     ]
    }
   ],
   "source": [
    "print(df.describe())"
   ]
  },
  {
   "cell_type": "code",
   "execution_count": 8,
   "metadata": {},
   "outputs": [
    {
     "name": "stdout",
     "output_type": "stream",
     "text": [
      "texto                    0\n",
      "intención                0\n",
      "monto                 2868\n",
      "categoría             2491\n",
      "fecha                 3099\n",
      "periodo               2731\n",
      "tarjeta               2938\n",
      "respuesta_esperada       0\n",
      "dtype: int64\n"
     ]
    }
   ],
   "source": [
    "print(df.isnull().sum())"
   ]
  },
  {
   "cell_type": "code",
   "execution_count": 9,
   "metadata": {},
   "outputs": [],
   "source": [
    "df['categoría'] = df['categoría'].str.lower().str.strip()\n",
    "df['tarjeta'] = df['tarjeta'].str.lower().str.strip()"
   ]
  },
  {
   "cell_type": "code",
   "execution_count": 10,
   "metadata": {},
   "outputs": [],
   "source": [
    "df['fecha'] = pd.to_datetime(df['fecha'], format='%d/%m/%Y', errors='coerce')"
   ]
  },
  {
   "cell_type": "code",
   "execution_count": 11,
   "metadata": {},
   "outputs": [
    {
     "name": "stdout",
     "output_type": "stream",
     "text": [
      "Collecting rasa\n",
      "  Using cached rasa-1.10.2-py3-none-any.whl.metadata (14 kB)\n",
      "Collecting PyJWT<1.8,>=1.7 (from rasa)\n",
      "  Using cached PyJWT-1.7.1-py2.py3-none-any.whl.metadata (3.9 kB)\n",
      "Collecting SQLAlchemy<1.4.0,>=1.3.3 (from rasa)\n",
      "  Using cached SQLAlchemy-1.3.24.tar.gz (6.4 MB)\n",
      "  Preparing metadata (setup.py): started\n",
      "  Preparing metadata (setup.py): finished with status 'done'\n",
      "Collecting absl-py<0.10,>=0.9 (from rasa)\n",
      "  Using cached absl-py-0.9.0.tar.gz (104 kB)\n",
      "  Preparing metadata (setup.py): started\n",
      "  Preparing metadata (setup.py): finished with status 'error'\n"
     ]
    },
    {
     "name": "stderr",
     "output_type": "stream",
     "text": [
      "  error: subprocess-exited-with-error\n",
      "  \n",
      "  × python setup.py egg_info did not run successfully.\n",
      "  │ exit code: 1\n",
      "  ╰─> [6 lines of output]\n",
      "      Traceback (most recent call last):\n",
      "        File \"<string>\", line 2, in <module>\n",
      "        File \"<pip-setuptools-caller>\", line 34, in <module>\n",
      "        File \"C:\\Users\\Maximo Guzman\\AppData\\Local\\Temp\\pip-install-ih1svrpk\\absl-py_79644f0c24cf4792b32e3a288c90ecfe\\setup.py\", line 34, in <module>\n",
      "          raise RuntimeError('Python version 2.7 or 3.4+ is required.')\n",
      "      RuntimeError: Python version 2.7 or 3.4+ is required.\n",
      "      [end of output]\n",
      "  \n",
      "  note: This error originates from a subprocess, and is likely not a problem with pip.\n",
      "error: metadata-generation-failed\n",
      "\n",
      "× Encountered error while generating package metadata.\n",
      "╰─> See above for output.\n",
      "\n",
      "note: This is an issue with the package mentioned above, not pip.\n",
      "hint: See above for details.\n"
     ]
    },
    {
     "name": "stdout",
     "output_type": "stream",
     "text": [
      "Requirement already satisfied: nest-asyncio in c:\\users\\maximo guzman\\appdata\\local\\programs\\python\\python312\\lib\\site-packages (1.6.0)\n",
      "Requirement already satisfied: prompt-toolkit in c:\\users\\maximo guzman\\appdata\\local\\programs\\python\\python312\\lib\\site-packages (3.0.50)\n",
      "Requirement already satisfied: wcwidth in c:\\users\\maximo guzman\\appdata\\local\\programs\\python\\python312\\lib\\site-packages (from prompt-toolkit) (0.2.13)\n"
     ]
    }
   ],
   "source": [
    "!pip install rasa\n",
    "!pip install nest-asyncio\n",
    "!pip install --upgrade prompt-toolkit"
   ]
  }
 ],
 "metadata": {
  "kernelspec": {
   "display_name": "Python 3",
   "language": "python",
   "name": "python3"
  },
  "language_info": {
   "codemirror_mode": {
    "name": "ipython",
    "version": 3
   },
   "file_extension": ".py",
   "mimetype": "text/x-python",
   "name": "python",
   "nbconvert_exporter": "python",
   "pygments_lexer": "ipython3",
   "version": "3.12.8"
  }
 },
 "nbformat": 4,
 "nbformat_minor": 2
}
